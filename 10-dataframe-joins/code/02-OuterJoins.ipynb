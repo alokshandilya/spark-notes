{
 "cells": [
  {
   "cell_type": "code",
   "execution_count": 1,
   "id": "decdfd04-9fdc-4ea1-a4b4-55099b053cfd",
   "metadata": {},
   "outputs": [
    {
     "name": "stdout",
     "output_type": "stream",
     "text": [
      "25/04/08 17:46:49 WARN NativeCodeLoader: Unable to load native-hadoop library for your platform... using builtin-java classes where applicable\n"
     ]
    },
    {
     "data": {
      "text/plain": [
       "'3.5.5'"
      ]
     },
     "execution_count": 1,
     "metadata": {},
     "output_type": "execute_result"
    }
   ],
   "source": [
    "from pyspark.sql import SparkSession\n",
    "\n",
    "spark: SparkSession = (\n",
    "    SparkSession.builder.master(\"local[3]\")  # type: ignore\n",
    "    .appName(\"Basic Joins\")\n",
    "    .getOrCreate()\n",
    ")\n",
    "\n",
    "spark.version"
   ]
  },
  {
   "cell_type": "code",
   "execution_count": 2,
   "id": "dc1c6038-5c97-4553-a450-3bf135664973",
   "metadata": {},
   "outputs": [
    {
     "name": "stderr",
     "output_type": "stream",
     "text": [
      "                                                                                "
     ]
    },
    {
     "name": "stdout",
     "output_type": "stream",
     "text": [
      "+--------+-------+----------+---+\n",
      "|order_id|prod_id|unit_price|qty|\n",
      "+--------+-------+----------+---+\n",
      "|      01|     02|       350|  1|\n",
      "|      01|     04|       580|  1|\n",
      "|      01|     07|       320|  2|\n",
      "|      02|     03|       450|  1|\n",
      "|      02|     06|       220|  1|\n",
      "|      03|     01|       195|  1|\n",
      "|      04|     09|       270|  3|\n",
      "|      04|     08|       410|  2|\n",
      "|      05|     02|       350|  1|\n",
      "+--------+-------+----------+---+\n",
      "\n"
     ]
    }
   ],
   "source": [
    "ordersList = [\n",
    "    (\"01\", \"02\", 350, 1),\n",
    "    (\"01\", \"04\", 580, 1),\n",
    "    (\"01\", \"07\", 320, 2),\n",
    "    (\"02\", \"03\", 450, 1),\n",
    "    (\"02\", \"06\", 220, 1),\n",
    "    (\"03\", \"01\", 195, 1),\n",
    "    (\"04\", \"09\", 270, 3),\n",
    "    (\"04\", \"08\", 410, 2),\n",
    "    (\"05\", \"02\", 350, 1),\n",
    "]\n",
    "\n",
    "orderDF = spark.createDataFrame(ordersList).toDF(\n",
    "    \"order_id\",\n",
    "    \"prod_id\",\n",
    "    \"unit_price\",\n",
    "    \"qty\",\n",
    ")\n",
    "\n",
    "orderDF.show()"
   ]
  },
  {
   "cell_type": "code",
   "execution_count": 3,
   "id": "fb654d1c-352a-4c44-931f-0d095180d5c9",
   "metadata": {},
   "outputs": [
    {
     "name": "stdout",
     "output_type": "stream",
     "text": [
      "+-------+-------------------+----------+---+\n",
      "|prod_id|          prod_name|list_price|qty|\n",
      "+-------+-------------------+----------+---+\n",
      "|     01|       Scroll Mouse|       250| 20|\n",
      "|     02|      Optical Mouse|       350| 20|\n",
      "|     03|     Wireless Mouse|       450| 50|\n",
      "|     04|  Wireless Keyboard|       580| 50|\n",
      "|     05|  Standard Keyboard|       360| 10|\n",
      "|     06|16 GB Flash Storage|       240|100|\n",
      "|     07|32 GB Flash Storage|       320| 50|\n",
      "|     08|64 GB Flash Storage|       430| 25|\n",
      "+-------+-------------------+----------+---+\n",
      "\n"
     ]
    }
   ],
   "source": [
    "productList = [\n",
    "    (\"01\", \"Scroll Mouse\", 250, 20),\n",
    "    (\"02\", \"Optical Mouse\", 350, 20),\n",
    "    (\"03\", \"Wireless Mouse\", 450, 50),\n",
    "    (\"04\", \"Wireless Keyboard\", 580, 50),\n",
    "    (\"05\", \"Standard Keyboard\", 360, 10),\n",
    "    (\"06\", \"16 GB Flash Storage\", 240, 100),\n",
    "    (\"07\", \"32 GB Flash Storage\", 320, 50),\n",
    "    (\"08\", \"64 GB Flash Storage\", 430, 25),\n",
    "]\n",
    "\n",
    "productDF = spark.createDataFrame(productList).toDF(\n",
    "    \"prod_id\",\n",
    "    \"prod_name\",\n",
    "    \"list_price\",\n",
    "    \"qty\",\n",
    ")\n",
    "\n",
    "productDF.show()"
   ]
  },
  {
   "cell_type": "code",
   "execution_count": 4,
   "id": "44ebe9b6-0271-4648-822b-0dff3e1b0aaa",
   "metadata": {},
   "outputs": [
    {
     "name": "stdout",
     "output_type": "stream",
     "text": [
      "+--------+-------+----------+----+-------+-------------------+----------+----+\n",
      "|order_id|prod_id|unit_price| qty|prod_id|          prod_name|list_price| qty|\n",
      "+--------+-------+----------+----+-------+-------------------+----------+----+\n",
      "|      03|     01|       195|   1|     01|       Scroll Mouse|       250|  20|\n",
      "|      01|     02|       350|   1|     02|      Optical Mouse|       350|  20|\n",
      "|      05|     02|       350|   1|     02|      Optical Mouse|       350|  20|\n",
      "|      02|     03|       450|   1|     03|     Wireless Mouse|       450|  50|\n",
      "|      01|     04|       580|   1|     04|  Wireless Keyboard|       580|  50|\n",
      "|    NULL|   NULL|      NULL|NULL|     05|  Standard Keyboard|       360|  10|\n",
      "|      02|     06|       220|   1|     06|16 GB Flash Storage|       240| 100|\n",
      "|      01|     07|       320|   2|     07|32 GB Flash Storage|       320|  50|\n",
      "|      04|     08|       410|   2|     08|64 GB Flash Storage|       430|  25|\n",
      "|      04|     09|       270|   3|   NULL|               NULL|      NULL|NULL|\n",
      "+--------+-------+----------+----+-------+-------------------+----------+----+\n",
      "\n"
     ]
    }
   ],
   "source": [
    "join_expr = orderDF.prod_id == productDF.prod_id\n",
    "\n",
    "orderDF.join(productDF, on=join_expr, how=\"full_outer\").select(  # full_outer, outer, full\n",
    "    \"*\",\n",
    ").show()"
   ]
  },
  {
   "cell_type": "markdown",
   "id": "686d9637-3a29-4291-b94d-b138a19186b4",
   "metadata": {},
   "source": [
    "# Left Join"
   ]
  },
  {
   "cell_type": "code",
   "execution_count": 5,
   "id": "f82feafb-a0a2-496f-bb52-f90ddfaa4407",
   "metadata": {},
   "outputs": [
    {
     "name": "stdout",
     "output_type": "stream",
     "text": [
      "+--------+-------+-------------------+----------+----------+---+\n",
      "|order_id|prod_id|          prod_name|unit_price|list_price|qty|\n",
      "+--------+-------+-------------------+----------+----------+---+\n",
      "|      01|     07|32 GB Flash Storage|       320|       320|  2|\n",
      "|      01|     02|      Optical Mouse|       350|       350|  1|\n",
      "|      01|     04|  Wireless Keyboard|       580|       580|  1|\n",
      "|      02|     03|     Wireless Mouse|       450|       450|  1|\n",
      "|      02|     06|16 GB Flash Storage|       220|       240|  1|\n",
      "|      03|     01|       Scroll Mouse|       195|       250|  1|\n",
      "|      04|     09|               NULL|       270|      NULL|  3|\n",
      "|      04|     08|64 GB Flash Storage|       410|       430|  2|\n",
      "|      05|     02|      Optical Mouse|       350|       350|  1|\n",
      "+--------+-------+-------------------+----------+----------+---+\n",
      "\n"
     ]
    }
   ],
   "source": [
    "# left join (left outer join)\n",
    "# PySpark how parameter: \"left\", \"left_outer\"\n",
    "productRenamedDF = productDF.withColumnRenamed(\"qty\", \"reorder_qty\")\n",
    "\n",
    "orderDF.join(productRenamedDF, on=join_expr, how=\"left_outer\").drop(\n",
    "    productRenamedDF.prod_id,\n",
    ").select(\n",
    "    \"order_id\",\n",
    "    \"prod_id\",\n",
    "    \"prod_name\",\n",
    "    \"unit_price\",\n",
    "    \"list_price\",\n",
    "    \"qty\",\n",
    ").sort(\"order_id\").show()"
   ]
  },
  {
   "cell_type": "markdown",
   "id": "52d84d7c-2fbb-473f-9144-458d9cdf1764",
   "metadata": {},
   "source": [
    "**TASK**: if we don't know the `prod_name` instead show `prod_id`, `unit_price` if we don't know `list_price`"
   ]
  },
  {
   "cell_type": "code",
   "execution_count": 6,
   "id": "2c6651d0-9acd-4c70-926e-38deb439d9fa",
   "metadata": {},
   "outputs": [
    {
     "name": "stdout",
     "output_type": "stream",
     "text": [
      "+--------+-------+-------------------+----------+----------+---+\n",
      "|order_id|prod_id|          prod_name|unit_price|list_price|qty|\n",
      "+--------+-------+-------------------+----------+----------+---+\n",
      "|      01|     07|32 GB Flash Storage|       320|       320|  2|\n",
      "|      01|     02|      Optical Mouse|       350|       350|  1|\n",
      "|      01|     04|  Wireless Keyboard|       580|       580|  1|\n",
      "|      02|     03|     Wireless Mouse|       450|       450|  1|\n",
      "|      02|     06|16 GB Flash Storage|       220|       240|  1|\n",
      "|      03|     01|       Scroll Mouse|       195|       250|  1|\n",
      "|      04|     09|                 09|       270|       270|  3|\n",
      "|      04|     08|64 GB Flash Storage|       410|       430|  2|\n",
      "|      05|     02|      Optical Mouse|       350|       350|  1|\n",
      "+--------+-------+-------------------+----------+----------+---+\n",
      "\n"
     ]
    }
   ],
   "source": [
    "from pyspark.sql.functions import expr\n",
    "\n",
    "orderDF.join(productRenamedDF, on=join_expr, how=\"left_outer\").drop(\n",
    "    productRenamedDF.prod_id,\n",
    ").select(\n",
    "    \"order_id\",\n",
    "    \"prod_id\",\n",
    "    \"prod_name\",\n",
    "    \"unit_price\",\n",
    "    \"list_price\",\n",
    "    \"qty\",\n",
    ").withColumn(\n",
    "    \"prod_name\",\n",
    "    expr(\"COALESCE(prod_name, prod_id)\"),\n",
    ").withColumn(\n",
    "    \"list_price\",\n",
    "    expr(\"COALESCE(list_price, unit_price)\"),\n",
    ").sort(\"order_id\").show()"
   ]
  }
 ],
 "metadata": {
  "kernelspec": {
   "display_name": "Python 3 (ipykernel)",
   "language": "python",
   "name": "python3"
  },
  "language_info": {
   "codemirror_mode": {
    "name": "ipython",
    "version": 3
   },
   "file_extension": ".py",
   "mimetype": "text/x-python",
   "name": "python",
   "nbconvert_exporter": "python",
   "pygments_lexer": "ipython3",
   "version": "3.13.2"
  }
 },
 "nbformat": 4,
 "nbformat_minor": 5
}
