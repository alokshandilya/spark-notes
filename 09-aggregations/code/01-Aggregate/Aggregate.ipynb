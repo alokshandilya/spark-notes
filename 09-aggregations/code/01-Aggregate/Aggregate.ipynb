{
 "cells": [
  {
   "cell_type": "code",
   "execution_count": 3,
   "id": "20ffbae1-f650-46f8-932e-7524e2738fbb",
   "metadata": {},
   "outputs": [
    {
     "name": "stdout",
     "output_type": "stream",
     "text": [
      "25/04/08 11:46:20 WARN NativeCodeLoader: Unable to load native-hadoop library for your platform... using builtin-java classes where applicable\n"
     ]
    },
    {
     "data": {
      "text/plain": [
       "'3.5.5'"
      ]
     },
     "execution_count": 3,
     "metadata": {},
     "output_type": "execute_result"
    }
   ],
   "source": [
    "from pyspark.sql import DataFrame, SparkSession\n",
    "\n",
    "spark: SparkSession = (\n",
    "    SparkSession.builder.master(\"local[3]\")  # type: ignore\n",
    "    .appName(\"Aggregate Example\")\n",
    "    .getOrCreate()\n",
    ")\n",
    "\n",
    "spark.version"
   ]
  },
  {
   "cell_type": "code",
   "execution_count": 6,
   "id": "00b32d1f-982f-429d-ae27-f77649d4de12",
   "metadata": {},
   "outputs": [
    {
     "name": "stderr",
     "output_type": "stream",
     "text": [
      "                                                                                "
     ]
    }
   ],
   "source": [
    "invoice_df: DataFrame = (\n",
    "    spark.read.format(\"csv\")\n",
    "    .option(\"header\", \"true\")\n",
    "    .option(\"inferSchema\", \"true\")\n",
    "    .load(\"data/invoices.csv\")\n",
    ")"
   ]
  },
  {
   "cell_type": "markdown",
   "id": "f55ba3b4-c10d-4b20-9390-066677f78bc0",
   "metadata": {},
   "source": [
    "# Simple Aggregations\n",
    "\n",
    "summarize whole dataframe to get 1 single row in the result.\n",
    "\n",
    "> these aggregates are functions, so we can use them in column object expression or SQL like string expression.\n"
   ]
  },
  {
   "cell_type": "code",
   "execution_count": 13,
   "id": "4562790c-022e-4f5e-a974-b470f6a3abeb",
   "metadata": {},
   "outputs": [
    {
     "name": "stderr",
     "output_type": "stream",
     "text": [
      "[Stage 10:===================>                                      (1 + 2) / 3]"
     ]
    },
    {
     "name": "stdout",
     "output_type": "stream",
     "text": [
      "+-----------+--------------+------------------+----------------------+\n",
      "|Total Count|Total Quantity|Average Unit Price|Distinct Invoice Count|\n",
      "+-----------+--------------+------------------+----------------------+\n",
      "|     541909|       5176450| 4.611113626088481|                 25900|\n",
      "+-----------+--------------+------------------+----------------------+\n",
      "\n"
     ]
    },
    {
     "name": "stderr",
     "output_type": "stream",
     "text": [
      "                                                                                "
     ]
    }
   ],
   "source": [
    "from pyspark.sql import functions as F\n",
    "\n",
    "invoice_df.select(\n",
    "    count(\"*\").alias(\"Total Count\"),\n",
    "    F.sum(\"Quantity\").alias(\"Total Quantity\"),\n",
    "    F.avg(\"UnitPrice\").alias(\"Average Unit Price\"),\n",
    "    F.count_distinct(\"InvoiceNo\").alias(\"Distinct Invoice Count\"),\n",
    ").show()"
   ]
  },
  {
   "cell_type": "code",
   "execution_count": 14,
   "id": "2d9d71b4-f765-40ae-a326-968a849ef9d6",
   "metadata": {},
   "outputs": [
    {
     "name": "stderr",
     "output_type": "stream",
     "text": [
      "[Stage 16:>                                                         (0 + 3) / 3]"
     ]
    },
    {
     "name": "stdout",
     "output_type": "stream",
     "text": [
      "+-----------+-----------------+--------------+------------------+\n",
      "|Total Count|Total Stock Count|Total Quantity|Average Unit Price|\n",
      "+-----------+-----------------+--------------+------------------+\n",
      "|     541909|           541908|       5176450| 4.611113626086849|\n",
      "+-----------+-----------------+--------------+------------------+\n",
      "\n"
     ]
    },
    {
     "name": "stderr",
     "output_type": "stream",
     "text": [
      "                                                                                "
     ]
    }
   ],
   "source": [
    "invoice_df.selectExpr(\n",
    "    \"COUNT(1) AS `Total Count`\",  # count even null values, COUNT(*)\n",
    "    \"COUNT(StockCode) AS `Total Stock Count`\",  # count non-null values\n",
    "    \"SUM(Quantity) AS `Total Quantity`\",\n",
    "    \"AVG(UnitPrice) AS `Average Unit Price`\",\n",
    ").show()"
   ]
  },
  {
   "cell_type": "markdown",
   "id": "fad2724d-c1c7-424a-b885-84efa1ec99dd",
   "metadata": {},
   "source": [
    "## Exercise\n",
    "\n",
    "- based on this [_dataset_](code/01-Aggregate/data/invoices.csv)\n",
    "\n",
    "<p align=\"center\">\n",
    "    <img src=\"https://github.com/user-attachments/assets/7db0d2f0-dc88-4f3b-8e88-52a1fa7b9f21\" width=\"50%\">\n",
    "</p>\n",
    "\n",
    "- group by `Country` and `InvoiceNo`\n",
    "- `InvoiceValue` is sum of [`Quantity` * `UnitPrice`]"
   ]
  }
 ],
 "metadata": {
  "kernelspec": {
   "display_name": "Python 3 (ipykernel)",
   "language": "python",
   "name": "python3"
  },
  "language_info": {
   "codemirror_mode": {
    "name": "ipython",
    "version": 3
   },
   "file_extension": ".py",
   "mimetype": "text/x-python",
   "name": "python",
   "nbconvert_exporter": "python",
   "pygments_lexer": "ipython3",
   "version": "3.13.2"
  }
 },
 "nbformat": 4,
 "nbformat_minor": 5
}
