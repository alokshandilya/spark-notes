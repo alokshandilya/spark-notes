{
 "cells": [
  {
   "cell_type": "code",
   "execution_count": 1,
   "id": "20ffbae1-f650-46f8-932e-7524e2738fbb",
   "metadata": {},
   "outputs": [
    {
     "name": "stdout",
     "output_type": "stream",
     "text": [
      "25/04/08 13:00:02 WARN NativeCodeLoader: Unable to load native-hadoop library for your platform... using builtin-java classes where applicable\n"
     ]
    },
    {
     "data": {
      "text/plain": [
       "'3.5.5'"
      ]
     },
     "execution_count": 1,
     "metadata": {},
     "output_type": "execute_result"
    }
   ],
   "source": [
    "from pyspark.sql import DataFrame, SparkSession\n",
    "\n",
    "spark: SparkSession = (\n",
    "    SparkSession.builder.master(\"local[3]\")  # type: ignore\n",
    "    .appName(\"Aggregate Example\")\n",
    "    .getOrCreate()\n",
    ")\n",
    "\n",
    "spark.version"
   ]
  },
  {
   "cell_type": "code",
   "execution_count": 2,
   "id": "00b32d1f-982f-429d-ae27-f77649d4de12",
   "metadata": {},
   "outputs": [
    {
     "name": "stderr",
     "output_type": "stream",
     "text": [
      "                                                                                "
     ]
    },
    {
     "name": "stdout",
     "output_type": "stream",
     "text": [
      "+---------+---------+--------------------+--------+---------------+---------+----------+--------------+\n",
      "|InvoiceNo|StockCode|         Description|Quantity|    InvoiceDate|UnitPrice|CustomerID|       Country|\n",
      "+---------+---------+--------------------+--------+---------------+---------+----------+--------------+\n",
      "|   536365|     NULL|WHITE HANGING HEA...|       6|01-12-2010 8.26|     2.55|     17850|United Kingdom|\n",
      "|   536365|    71053| WHITE METAL LANTERN|       6|01-12-2010 8.26|     3.39|     17850|United Kingdom|\n",
      "|   536365|   84406B|CREAM CUPID HEART...|       8|01-12-2010 8.26|     2.75|     17850|United Kingdom|\n",
      "|   536365|   84029G|KNITTED UNION FLA...|       6|01-12-2010 8.26|     3.39|     17850|United Kingdom|\n",
      "|   536365|   84029E|RED WOOLLY HOTTIE...|       6|01-12-2010 8.26|     3.39|     17850|United Kingdom|\n",
      "+---------+---------+--------------------+--------+---------------+---------+----------+--------------+\n",
      "only showing top 5 rows\n",
      "\n"
     ]
    }
   ],
   "source": [
    "invoice_df: DataFrame = (\n",
    "    spark.read.format(\"csv\")\n",
    "    .option(\"header\", \"true\")\n",
    "    .option(\"inferSchema\", \"true\")\n",
    "    .load(\"data/invoices.csv\")\n",
    ")\n",
    "\n",
    "invoice_df.show(5)"
   ]
  },
  {
   "cell_type": "markdown",
   "id": "f55ba3b4-c10d-4b20-9390-066677f78bc0",
   "metadata": {},
   "source": [
    "# Simple Aggregations\n",
    "\n",
    "summarize whole dataframe to get 1 single row in the result.\n",
    "\n",
    "> these aggregates are functions, so we can use them in column object expression or SQL like string expression.\n"
   ]
  },
  {
   "cell_type": "code",
   "execution_count": 3,
   "id": "4562790c-022e-4f5e-a974-b470f6a3abeb",
   "metadata": {},
   "outputs": [
    {
     "name": "stderr",
     "output_type": "stream",
     "text": [
      "[Stage 3:===================>                                       (1 + 2) / 3]"
     ]
    },
    {
     "name": "stdout",
     "output_type": "stream",
     "text": [
      "+-----------+--------------+------------------+----------------------+\n",
      "|Total Count|Total Quantity|Average Unit Price|Distinct Invoice Count|\n",
      "+-----------+--------------+------------------+----------------------+\n",
      "|     541909|       5176450| 4.611113626088481|                 25900|\n",
      "+-----------+--------------+------------------+----------------------+\n",
      "\n"
     ]
    },
    {
     "name": "stderr",
     "output_type": "stream",
     "text": [
      "                                                                                "
     ]
    }
   ],
   "source": [
    "from pyspark.sql import functions as F\n",
    "\n",
    "invoice_df.select(\n",
    "    F.count(\"*\").alias(\"Total Count\"),\n",
    "    F.sum(\"Quantity\").alias(\"Total Quantity\"),\n",
    "    F.avg(\"UnitPrice\").alias(\"Average Unit Price\"),\n",
    "    F.count_distinct(\"InvoiceNo\").alias(\"Distinct Invoice Count\"),\n",
    ").show()"
   ]
  },
  {
   "cell_type": "code",
   "execution_count": 4,
   "id": "2d9d71b4-f765-40ae-a326-968a849ef9d6",
   "metadata": {},
   "outputs": [
    {
     "name": "stderr",
     "output_type": "stream",
     "text": [
      "[Stage 9:===================>                                       (1 + 2) / 3]"
     ]
    },
    {
     "name": "stdout",
     "output_type": "stream",
     "text": [
      "+-----------+-----------------+--------------+------------------+\n",
      "|Total Count|Total Stock Count|Total Quantity|Average Unit Price|\n",
      "+-----------+-----------------+--------------+------------------+\n",
      "|     541909|           541908|       5176450| 4.611113626086849|\n",
      "+-----------+-----------------+--------------+------------------+\n",
      "\n"
     ]
    },
    {
     "name": "stderr",
     "output_type": "stream",
     "text": [
      "                                                                                "
     ]
    }
   ],
   "source": [
    "invoice_df.selectExpr(\n",
    "    \"COUNT(1) AS `Total Count`\",  # count even null values, COUNT(*)\n",
    "    \"COUNT(StockCode) AS `Total Stock Count`\",  # count non-null values\n",
    "    \"SUM(Quantity) AS `Total Quantity`\",\n",
    "    \"AVG(UnitPrice) AS `Average Unit Price`\",\n",
    ").show()"
   ]
  },
  {
   "cell_type": "markdown",
   "id": "fad2724d-c1c7-424a-b885-84efa1ec99dd",
   "metadata": {},
   "source": [
    "## Exercise 1\n",
    "\n",
    "- based on this [_dataset_](code/01-Aggregate/data/invoices.csv)\n",
    "\n",
    "| Country        | InvoiceNo | TotalQuantity | InvoiceValue |\n",
    "|----------------|-----------|---------------|--------------|\n",
    "| United Kingdom | 536446    | 329           | 440.89       |\n",
    "| United Kingdom | 536508    | 216           | 155.52       |\n",
    "| United Kingdom | 537018    | -3            | 0.0          |\n",
    "| United Kingdom | 537401    | -24           | 0.0          |\n",
    "| United Kingdom | 537811    | 74            | 268.86       |\n",
    "\n",
    "- group by `Country` and `InvoiceNo`\n",
    "- `InvoiceValue` is sum of [`Quantity` * `UnitPrice`]"
   ]
  },
  {
   "cell_type": "code",
   "execution_count": 5,
   "id": "424ca393-cd7a-4ee5-bc2f-3ca63614c1e6",
   "metadata": {},
   "outputs": [
    {
     "name": "stderr",
     "output_type": "stream",
     "text": [
      "[Stage 12:======================================>                   (2 + 1) / 3]"
     ]
    },
    {
     "name": "stdout",
     "output_type": "stream",
     "text": [
      "+--------------+---------+-------------+------------+\n",
      "|       Country|InvoiceNo|TotalQuantity|InvoiceValue|\n",
      "+--------------+---------+-------------+------------+\n",
      "|United Kingdom|   536446|          329|      440.89|\n",
      "|United Kingdom|   536508|          216|      155.52|\n",
      "|United Kingdom|   537018|           -3|         0.0|\n",
      "|United Kingdom|   537401|          -24|         0.0|\n",
      "|United Kingdom|   537811|           74|      268.86|\n",
      "+--------------+---------+-------------+------------+\n",
      "only showing top 5 rows\n",
      "\n"
     ]
    },
    {
     "name": "stderr",
     "output_type": "stream",
     "text": [
      "                                                                                "
     ]
    }
   ],
   "source": [
    "# using spark.sql\n",
    "invoice_df.createOrReplaceTempView(\"invoices\")\n",
    "\n",
    "exercise1 = spark.sql(\n",
    "    \"\"\"\n",
    "    SELECT\n",
    "        Country,\n",
    "        InvoiceNo,\n",
    "        SUM(Quantity) AS TotalQuantity,\n",
    "        ROUND(SUM(Quantity * UnitPrice), 2) AS InvoiceValue\n",
    "    FROM\n",
    "        invoices\n",
    "    GROUP BY\n",
    "        Country,\n",
    "        InvoiceNo\n",
    "    \"\"\"\n",
    ")\n",
    "\n",
    "exercise1.show(5)"
   ]
  },
  {
   "cell_type": "code",
   "execution_count": 6,
   "id": "cff0bdcd-1c74-47a4-8383-580396727070",
   "metadata": {},
   "outputs": [
    {
     "name": "stderr",
     "output_type": "stream",
     "text": [
      "[Stage 15:===================>                                      (1 + 2) / 3]"
     ]
    },
    {
     "name": "stdout",
     "output_type": "stream",
     "text": [
      "+--------------+---------+-------------+------------+----------------+\n",
      "|       Country|InvoiceNo|TotalQuantity|InvoiceValue|InvoiceValueExpr|\n",
      "+--------------+---------+-------------+------------+----------------+\n",
      "|United Kingdom|   536446|          329|      440.89|          440.89|\n",
      "|United Kingdom|   536508|          216|      155.52|          155.52|\n",
      "|United Kingdom|   537018|           -3|         0.0|             0.0|\n",
      "|United Kingdom|   537401|          -24|         0.0|             0.0|\n",
      "|United Kingdom|   537811|           74|      268.86|          268.86|\n",
      "+--------------+---------+-------------+------------+----------------+\n",
      "only showing top 5 rows\n",
      "\n"
     ]
    },
    {
     "name": "stderr",
     "output_type": "stream",
     "text": [
      "                                                                                "
     ]
    }
   ],
   "source": [
    "# OR using pyspark.sql.functions\n",
    "\n",
    "# agg(*exprs: Column) -> DataFrame\n",
    "# Compute aggregates and returns the result as a `DataFrame`.\n",
    "\n",
    "exercise1_alt = invoice_df.groupBy(\"Country\", \"InvoiceNo\").agg(\n",
    "    F.sum(\"Quantity\").alias(\"TotalQuantity\"),\n",
    "    F.expr(\"ROUND(SUM(Quantity * UnitPrice), 2)\").alias(\"InvoiceValue\"),\n",
    "    # OR\n",
    "    F.round(F.sum(F.expr(\"Quantity * UnitPrice\")), 2).alias(\"InvoiceValueExpr\"),\n",
    ")\n",
    "\n",
    "exercise1_alt.show(5)"
   ]
  },
  {
   "cell_type": "markdown",
   "id": "0a23424b-5a8b-45eb-8cb9-9acce5224cf2",
   "metadata": {},
   "source": [
    "# Exercise 2\n",
    "\n",
    "| Country         | WeekNumber | NumInvoices | TotalQuantity | InvoiceValue |\n",
    "|-----------------|------------|-------------|---------------|--------------|\n",
    "| Australia       | 50         | 2           | 133           | 387.95       |\n",
    "| Australia       | 48         | 1           | 107           | 358.25       |\n",
    "| Australia       | 49         | 1           | 214           | 258.9        |\n",
    "| Austria         | 50         | 2           | 3             | 257.04       |\n",
    "| Bahrain         | 51         | 1           | 54            | 205.74       |\n",
    "| Belgium         | 48         | 1           | 528           | 346.1        |\n",
    "| Belgium         | 50         | 2           | 285           | 625.16       |\n",
    "| Belgium         | 51         | 2           | 942           | 838.65       |\n",
    "\n",
    "- group by `Country`, `WeekNumber` _(get week number from InvoiceDate)_\n",
    "- show records of year `2010` only.\n",
    "- NumInvoices are distinct invoices in that group by\n",
    "- `InvoiceValue` is sum of [`Quantity` * `UnitPrice`]"
   ]
  },
  {
   "cell_type": "code",
   "execution_count": 7,
   "id": "c0011c9d-1c20-454e-826b-7b5461853ba1",
   "metadata": {},
   "outputs": [
    {
     "name": "stdout",
     "output_type": "stream",
     "text": [
      "+---------+---------+--------------------+--------+---------------+---------+----------+--------------+\n",
      "|InvoiceNo|StockCode|         Description|Quantity|    InvoiceDate|UnitPrice|CustomerID|       Country|\n",
      "+---------+---------+--------------------+--------+---------------+---------+----------+--------------+\n",
      "|   536365|     NULL|WHITE HANGING HEA...|       6|01-12-2010 8.26|     2.55|     17850|United Kingdom|\n",
      "|   536365|    71053| WHITE METAL LANTERN|       6|01-12-2010 8.26|     3.39|     17850|United Kingdom|\n",
      "|   536365|   84406B|CREAM CUPID HEART...|       8|01-12-2010 8.26|     2.75|     17850|United Kingdom|\n",
      "|   536365|   84029G|KNITTED UNION FLA...|       6|01-12-2010 8.26|     3.39|     17850|United Kingdom|\n",
      "|   536365|   84029E|RED WOOLLY HOTTIE...|       6|01-12-2010 8.26|     3.39|     17850|United Kingdom|\n",
      "|   536365|    22752|SET 7 BABUSHKA NE...|       2|01-12-2010 8.26|     7.65|     17850|United Kingdom|\n",
      "|   536365|    21730|GLASS STAR FROSTE...|       6|01-12-2010 8.26|     4.25|     17850|United Kingdom|\n",
      "|   536366|    22633|HAND WARMER UNION...|       6|01-12-2010 8.28|     1.85|     17850|United Kingdom|\n",
      "|   536366|    22632|HAND WARMER RED P...|       6|01-12-2010 8.28|     1.85|     17850|United Kingdom|\n",
      "|   536367|    84879|ASSORTED COLOUR B...|      32|01-12-2010 8.34|     1.69|     13047|United Kingdom|\n",
      "+---------+---------+--------------------+--------+---------------+---------+----------+--------------+\n",
      "only showing top 10 rows\n",
      "\n"
     ]
    }
   ],
   "source": [
    "invoice_df.show(10)"
   ]
  },
  {
   "cell_type": "code",
   "execution_count": 8,
   "id": "8bec09c8-02c2-4a80-8538-fdb01e315ad2",
   "metadata": {},
   "outputs": [
    {
     "name": "stdout",
     "output_type": "stream",
     "text": [
      "+---------+---------+--------------------+--------+---------------+---------+----------+--------------+\n",
      "|InvoiceNo|StockCode|         Description|Quantity|    InvoiceDate|UnitPrice|CustomerID|       Country|\n",
      "+---------+---------+--------------------+--------+---------------+---------+----------+--------------+\n",
      "|   536365|     NULL|WHITE HANGING HEA...|       6|01-12-2010 8.26|     2.55|     17850|United Kingdom|\n",
      "|   536365|    71053| WHITE METAL LANTERN|       6|01-12-2010 8.26|     3.39|     17850|United Kingdom|\n",
      "|   536365|   84406B|CREAM CUPID HEART...|       8|01-12-2010 8.26|     2.75|     17850|United Kingdom|\n",
      "|   536365|   84029G|KNITTED UNION FLA...|       6|01-12-2010 8.26|     3.39|     17850|United Kingdom|\n",
      "|   536365|   84029E|RED WOOLLY HOTTIE...|       6|01-12-2010 8.26|     3.39|     17850|United Kingdom|\n",
      "|   536365|    22752|SET 7 BABUSHKA NE...|       2|01-12-2010 8.26|     7.65|     17850|United Kingdom|\n",
      "|   536365|    21730|GLASS STAR FROSTE...|       6|01-12-2010 8.26|     4.25|     17850|United Kingdom|\n",
      "|   536366|    22633|HAND WARMER UNION...|       6|01-12-2010 8.28|     1.85|     17850|United Kingdom|\n",
      "|   536366|    22632|HAND WARMER RED P...|       6|01-12-2010 8.28|     1.85|     17850|United Kingdom|\n",
      "|   536367|    84879|ASSORTED COLOUR B...|      32|01-12-2010 8.34|     1.69|     13047|United Kingdom|\n",
      "|   536367|    22745|POPPY'S PLAYHOUSE...|       6|01-12-2010 8.34|      2.1|     13047|United Kingdom|\n",
      "|   536367|    22748|POPPY'S PLAYHOUSE...|       6|01-12-2010 8.34|      2.1|     13047|United Kingdom|\n",
      "|   536367|    22749|FELTCRAFT PRINCES...|       8|01-12-2010 8.34|     3.75|     13047|United Kingdom|\n",
      "|   536367|    22310|IVORY KNITTED MUG...|       6|01-12-2010 8.34|     1.65|     13047|United Kingdom|\n",
      "|   536367|    84969|BOX OF 6 ASSORTED...|       6|01-12-2010 8.34|     4.25|     13047|United Kingdom|\n",
      "|   536367|    22623|BOX OF VINTAGE JI...|       3|01-12-2010 8.34|     4.95|     13047|United Kingdom|\n",
      "|   536367|    22622|BOX OF VINTAGE AL...|       2|01-12-2010 8.34|     9.95|     13047|United Kingdom|\n",
      "|   536367|    21754|HOME BUILDING BLO...|       3|01-12-2010 8.34|     5.95|     13047|United Kingdom|\n",
      "|   536367|    21755|LOVE BUILDING BLO...|       3|01-12-2010 8.34|     5.95|     13047|United Kingdom|\n",
      "|   536367|    21777|RECIPE BOX WITH M...|       4|01-12-2010 8.34|     7.95|     13047|United Kingdom|\n",
      "+---------+---------+--------------------+--------+---------------+---------+----------+--------------+\n",
      "only showing top 20 rows\n",
      "\n",
      "+---------+---------+--------------------+--------+-------------------+---------+----------+--------------+\n",
      "|InvoiceNo|StockCode|         Description|Quantity|        InvoiceDate|UnitPrice|CustomerID|       Country|\n",
      "+---------+---------+--------------------+--------+-------------------+---------+----------+--------------+\n",
      "|   536365|     NULL|WHITE HANGING HEA...|       6|2010-12-01 08:26:00|     2.55|     17850|United Kingdom|\n",
      "|   536365|    71053| WHITE METAL LANTERN|       6|2010-12-01 08:26:00|     3.39|     17850|United Kingdom|\n",
      "|   536365|   84406B|CREAM CUPID HEART...|       8|2010-12-01 08:26:00|     2.75|     17850|United Kingdom|\n",
      "|   536365|   84029G|KNITTED UNION FLA...|       6|2010-12-01 08:26:00|     3.39|     17850|United Kingdom|\n",
      "|   536365|   84029E|RED WOOLLY HOTTIE...|       6|2010-12-01 08:26:00|     3.39|     17850|United Kingdom|\n",
      "|   536365|    22752|SET 7 BABUSHKA NE...|       2|2010-12-01 08:26:00|     7.65|     17850|United Kingdom|\n",
      "|   536365|    21730|GLASS STAR FROSTE...|       6|2010-12-01 08:26:00|     4.25|     17850|United Kingdom|\n",
      "|   536366|    22633|HAND WARMER UNION...|       6|2010-12-01 08:28:00|     1.85|     17850|United Kingdom|\n",
      "|   536366|    22632|HAND WARMER RED P...|       6|2010-12-01 08:28:00|     1.85|     17850|United Kingdom|\n",
      "|   536367|    84879|ASSORTED COLOUR B...|      32|2010-12-01 08:34:00|     1.69|     13047|United Kingdom|\n",
      "|   536367|    22745|POPPY'S PLAYHOUSE...|       6|2010-12-01 08:34:00|      2.1|     13047|United Kingdom|\n",
      "|   536367|    22748|POPPY'S PLAYHOUSE...|       6|2010-12-01 08:34:00|      2.1|     13047|United Kingdom|\n",
      "|   536367|    22749|FELTCRAFT PRINCES...|       8|2010-12-01 08:34:00|     3.75|     13047|United Kingdom|\n",
      "|   536367|    22310|IVORY KNITTED MUG...|       6|2010-12-01 08:34:00|     1.65|     13047|United Kingdom|\n",
      "|   536367|    84969|BOX OF 6 ASSORTED...|       6|2010-12-01 08:34:00|     4.25|     13047|United Kingdom|\n",
      "|   536367|    22623|BOX OF VINTAGE JI...|       3|2010-12-01 08:34:00|     4.95|     13047|United Kingdom|\n",
      "|   536367|    22622|BOX OF VINTAGE AL...|       2|2010-12-01 08:34:00|     9.95|     13047|United Kingdom|\n",
      "|   536367|    21754|HOME BUILDING BLO...|       3|2010-12-01 08:34:00|     5.95|     13047|United Kingdom|\n",
      "|   536367|    21755|LOVE BUILDING BLO...|       3|2010-12-01 08:34:00|     5.95|     13047|United Kingdom|\n",
      "|   536367|    21777|RECIPE BOX WITH M...|       4|2010-12-01 08:34:00|     7.95|     13047|United Kingdom|\n",
      "+---------+---------+--------------------+--------+-------------------+---------+----------+--------------+\n",
      "only showing top 20 rows\n",
      "\n"
     ]
    }
   ],
   "source": [
    "from pyspark.sql.functions import col, to_timestamp\n",
    "\n",
    "invoice_df.show()\n",
    "\n",
    "# 1. Convert the InvoiceDate string column to Timestamp type\n",
    "#    The format \"dd-MM-yyyy HH.mm\" must exactly match your string data.\n",
    "invoice_df_typed = invoice_df.withColumn(\n",
    "    \"InvoiceDate\",\n",
    "    to_timestamp(col(\"InvoiceDate\"), \"dd-MM-yyyy H.mm\")\n",
    ")\n",
    "\n",
    "invoice_df_typed.show()"
   ]
  },
  {
   "cell_type": "code",
   "execution_count": 9,
   "id": "bfdebebe-497b-4525-98c4-eeefcf0fc9ea",
   "metadata": {},
   "outputs": [
    {
     "name": "stderr",
     "output_type": "stream",
     "text": [
      "[Stage 21:======================================>                   (2 + 1) / 3]"
     ]
    },
    {
     "name": "stdout",
     "output_type": "stream",
     "text": [
      "+---------------+----------+-----------+-------------+------------+\n",
      "|        Country|WeekNumber|NumInvoices|TotalQuantity|InvoiceValue|\n",
      "+---------------+----------+-----------+-------------+------------+\n",
      "|      Australia|        48|          1|          107|      358.25|\n",
      "|      Australia|        49|          1|          214|       258.9|\n",
      "|      Australia|        50|          2|          133|      387.95|\n",
      "|        Austria|        50|          2|            3|      257.04|\n",
      "|        Bahrain|        51|          1|           54|      205.74|\n",
      "|        Belgium|        48|          1|          528|       346.1|\n",
      "|        Belgium|        50|          2|          285|      625.16|\n",
      "|        Belgium|        51|          2|          942|      838.65|\n",
      "|Channel Islands|        49|          1|           80|      363.53|\n",
      "|         Cyprus|        50|          1|          917|     1590.82|\n",
      "|        Denmark|        49|          1|          454|      1281.5|\n",
      "|           EIRE|        48|          7|         2822|     3147.23|\n",
      "|           EIRE|        49|          5|         1280|      3284.1|\n",
      "|           EIRE|        50|          5|         1184|     2321.78|\n",
      "|           EIRE|        51|          5|           95|      276.84|\n",
      "|        Finland|        50|          1|         1254|       892.8|\n",
      "|         France|        48|          4|         1299|     2808.16|\n",
      "|         France|        49|          9|         2303|     4527.01|\n",
      "|         France|        50|          6|          529|      537.32|\n",
      "|         France|        51|          5|          847|     1702.87|\n",
      "+---------------+----------+-----------+-------------+------------+\n",
      "only showing top 20 rows\n",
      "\n"
     ]
    },
    {
     "name": "stderr",
     "output_type": "stream",
     "text": [
      "                                                                                "
     ]
    }
   ],
   "source": [
    "# 2. Register the correctly typed DataFrame as a temporary view\n",
    "invoice_df_typed.createOrReplaceTempView(\"exercise_2\")\n",
    "\n",
    "# 3. Execute the SQL query\n",
    "#    It will now work because InvoiceDate is a Timestamp in the view.\n",
    "exercise2DF = spark.sql(\n",
    "    \"\"\"\n",
    "    SELECT\n",
    "        Country,\n",
    "        weekofyear(InvoiceDate) AS WeekNumber,  -- weekofyear is not in PostgreSQL\n",
    "        COUNT(DISTINCT(InvoiceNo)) AS NumInvoices,\n",
    "        SUM(Quantity) AS TotalQuantity,\n",
    "        ROUND(SUM(Quantity * UnitPrice), 2) AS InvoiceValue\n",
    "    FROM\n",
    "        exercise_2\n",
    "    WHERE\n",
    "        year(InvoiceDate) == 2010\n",
    "    GROUP BY\n",
    "        Country,\n",
    "        WeekNumber\n",
    "    ORDER BY\n",
    "        Country, WeekNumber\n",
    "    \"\"\"\n",
    ")\n",
    "\n",
    "exercise2DF.show()"
   ]
  },
  {
   "cell_type": "code",
   "execution_count": 10,
   "id": "6bd818d4-9536-4355-92b9-d2b454f267c5",
   "metadata": {},
   "outputs": [
    {
     "name": "stderr",
     "output_type": "stream",
     "text": [
      "                                                                                "
     ]
    },
    {
     "name": "stdout",
     "output_type": "stream",
     "text": [
      "+---------------+----------+-----------+-------------+------------+\n",
      "|        Country|WeekNumber|NumInvoices|TotalQuantity|InvoiceValue|\n",
      "+---------------+----------+-----------+-------------+------------+\n",
      "|      Australia|        48|          1|          107|      358.25|\n",
      "|      Australia|        49|          1|          214|       258.9|\n",
      "|      Australia|        50|          2|          133|      387.95|\n",
      "|        Austria|        50|          2|            3|      257.04|\n",
      "|        Bahrain|        51|          1|           54|      205.74|\n",
      "|        Belgium|        48|          1|          528|       346.1|\n",
      "|        Belgium|        50|          2|          285|      625.16|\n",
      "|        Belgium|        51|          2|          942|      838.65|\n",
      "|Channel Islands|        49|          1|           80|      363.53|\n",
      "|         Cyprus|        50|          1|          917|     1590.82|\n",
      "|        Denmark|        49|          1|          454|      1281.5|\n",
      "|           EIRE|        48|          7|         2822|     3147.23|\n",
      "|           EIRE|        49|          5|         1280|      3284.1|\n",
      "|           EIRE|        50|          5|         1184|     2321.78|\n",
      "|           EIRE|        51|          5|           95|      276.84|\n",
      "|        Finland|        50|          1|         1254|       892.8|\n",
      "|         France|        48|          4|         1299|     2808.16|\n",
      "|         France|        49|          9|         2303|     4527.01|\n",
      "|         France|        50|          6|          529|      537.32|\n",
      "|         France|        51|          5|          847|     1702.87|\n",
      "+---------------+----------+-----------+-------------+------------+\n",
      "only showing top 20 rows\n",
      "\n"
     ]
    },
    {
     "name": "stderr",
     "output_type": "stream",
     "text": [
      "                                                                                "
     ]
    }
   ],
   "source": [
    "# OR\n",
    "\n",
    "from pyspark.sql import functions as f\n",
    "\n",
    "\n",
    "NumInvoices = f.count_distinct(\"InvoiceNo\").alias(\"NumInvoices\")\n",
    "TotalQuantity = f.sum(\"Quantity\").alias(\"TotalQuantity\")\n",
    "InvoiceValue = f.expr(\"ROUND(SUM(Quantity * UnitPrice), 2) AS InvoiceValue\")\n",
    "\n",
    "summaryDF = (\n",
    "    invoice_df.withColumn(\"InvoiceDate\", f.to_date(f.col(\"InvoiceDate\"), \"dd-MM-yyyy H.mm\"))\n",
    "    .where(\"year(InvoiceDate) == 2010\")\n",
    "    .withColumn(\"WeekNumber\", f.weekofyear(f.col(\"InvoiceDate\")))\n",
    "    .groupBy(\"Country\", \"WeekNumber\")\n",
    "    .agg(NumInvoices, TotalQuantity, InvoiceValue)\n",
    ")\n",
    "\n",
    "summaryDF.sort(\"Country\", \"WeekNumber\").show()\n",
    "\n",
    "# summaryDF.coalesce(1).write.format(\"parquet\").mode(\"overwrite\").save(\"output\")\n",
    "summaryDF.coalesce(1).write.format(\"csv\").mode(\"overwrite\").save(\"output\")"
   ]
  }
 ],
 "metadata": {
  "kernelspec": {
   "display_name": "Python 3 (ipykernel)",
   "language": "python",
   "name": "python3"
  },
  "language_info": {
   "codemirror_mode": {
    "name": "ipython",
    "version": 3
   },
   "file_extension": ".py",
   "mimetype": "text/x-python",
   "name": "python",
   "nbconvert_exporter": "python",
   "pygments_lexer": "ipython3",
   "version": "3.13.2"
  }
 },
 "nbformat": 4,
 "nbformat_minor": 5
}
