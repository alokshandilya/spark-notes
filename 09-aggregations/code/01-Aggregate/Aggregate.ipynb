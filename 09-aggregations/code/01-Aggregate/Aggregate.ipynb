{
 "cells": [
  {
   "cell_type": "code",
   "execution_count": 3,
   "id": "20ffbae1-f650-46f8-932e-7524e2738fbb",
   "metadata": {},
   "outputs": [
    {
     "name": "stdout",
     "output_type": "stream",
     "text": [
      "25/04/08 11:46:20 WARN NativeCodeLoader: Unable to load native-hadoop library for your platform... using builtin-java classes where applicable\n"
     ]
    },
    {
     "data": {
      "text/plain": [
       "'3.5.5'"
      ]
     },
     "execution_count": 3,
     "metadata": {},
     "output_type": "execute_result"
    }
   ],
   "source": [
    "from pyspark.sql import DataFrame, SparkSession\n",
    "\n",
    "spark: SparkSession = (\n",
    "    SparkSession.builder.master(\"local[3]\")  # type: ignore\n",
    "    .appName(\"Aggregate Example\")\n",
    "    .getOrCreate()\n",
    ")\n",
    "\n",
    "spark.version"
   ]
  },
  {
   "cell_type": "code",
   "execution_count": 6,
   "id": "00b32d1f-982f-429d-ae27-f77649d4de12",
   "metadata": {},
   "outputs": [
    {
     "name": "stderr",
     "output_type": "stream",
     "text": [
      "                                                                                "
     ]
    }
   ],
   "source": [
    "invoice_df: DataFrame = (\n",
    "    spark.read.format(\"csv\")\n",
    "    .option(\"header\", \"true\")\n",
    "    .option(\"inferSchema\", \"true\")\n",
    "    .load(\"data/invoices.csv\")\n",
    ")"
   ]
  },
  {
   "cell_type": "markdown",
   "id": "f55ba3b4-c10d-4b20-9390-066677f78bc0",
   "metadata": {},
   "source": [
    "# Simple Aggregations\n",
    "\n",
    "summarize whole dataframe to get 1 single row in the result.\n",
    "\n",
    "> these aggregates are functions, so we can use them in column object expression or SQL like string expression.\n"
   ]
  },
  {
   "cell_type": "code",
   "execution_count": 13,
   "id": "4562790c-022e-4f5e-a974-b470f6a3abeb",
   "metadata": {},
   "outputs": [
    {
     "name": "stderr",
     "output_type": "stream",
     "text": [
      "[Stage 10:===================>                                      (1 + 2) / 3]"
     ]
    },
    {
     "name": "stdout",
     "output_type": "stream",
     "text": [
      "+-----------+--------------+------------------+----------------------+\n",
      "|Total Count|Total Quantity|Average Unit Price|Distinct Invoice Count|\n",
      "+-----------+--------------+------------------+----------------------+\n",
      "|     541909|       5176450| 4.611113626088481|                 25900|\n",
      "+-----------+--------------+------------------+----------------------+\n",
      "\n"
     ]
    },
    {
     "name": "stderr",
     "output_type": "stream",
     "text": [
      "                                                                                "
     ]
    }
   ],
   "source": [
    "from pyspark.sql import functions as F\n",
    "\n",
    "invoice_df.select(\n",
    "    count(\"*\").alias(\"Total Count\"),\n",
    "    F.sum(\"Quantity\").alias(\"Total Quantity\"),\n",
    "    F.avg(\"UnitPrice\").alias(\"Average Unit Price\"),\n",
    "    F.count_distinct(\"InvoiceNo\").alias(\"Distinct Invoice Count\"),\n",
    ").show()"
   ]
  },
  {
   "cell_type": "code",
   "execution_count": 14,
   "id": "2d9d71b4-f765-40ae-a326-968a849ef9d6",
   "metadata": {},
   "outputs": [
    {
     "name": "stderr",
     "output_type": "stream",
     "text": [
      "[Stage 16:>                                                         (0 + 3) / 3]"
     ]
    },
    {
     "name": "stdout",
     "output_type": "stream",
     "text": [
      "+-----------+-----------------+--------------+------------------+\n",
      "|Total Count|Total Stock Count|Total Quantity|Average Unit Price|\n",
      "+-----------+-----------------+--------------+------------------+\n",
      "|     541909|           541908|       5176450| 4.611113626086849|\n",
      "+-----------+-----------------+--------------+------------------+\n",
      "\n"
     ]
    },
    {
     "name": "stderr",
     "output_type": "stream",
     "text": [
      "                                                                                "
     ]
    }
   ],
   "source": [
    "invoice_df.selectExpr(\n",
    "    \"COUNT(1) AS `Total Count`\",  # count even null values, COUNT(*)\n",
    "    \"COUNT(StockCode) AS `Total Stock Count`\",  # count non-null values\n",
    "    \"SUM(Quantity) AS `Total Quantity`\",\n",
    "    \"AVG(UnitPrice) AS `Average Unit Price`\",\n",
    ").show()"
   ]
  },
  {
   "cell_type": "markdown",
   "id": "fad2724d-c1c7-424a-b885-84efa1ec99dd",
   "metadata": {},
   "source": [
    "## Exercise 1\n",
    "\n",
    "- based on this [_dataset_](code/01-Aggregate/data/invoices.csv)\n",
    "\n",
    "| Country        | InvoiceNo | TotalQuantity | InvoiceValue |\n",
    "|----------------|-----------|---------------|--------------|\n",
    "| United Kingdom | 536446    | 329           | 440.89       |\n",
    "| United Kingdom | 536508    | 216           | 155.52       |\n",
    "| United Kingdom | 537018    | -3            | 0.0          |\n",
    "| United Kingdom | 537401    | -24           | 0.0          |\n",
    "| United Kingdom | 537811    | 74            | 268.86       |\n",
    "\n",
    "- group by `Country` and `InvoiceNo`\n",
    "- `InvoiceValue` is sum of [`Quantity` * `UnitPrice`]"
   ]
  },
  {
   "cell_type": "code",
   "execution_count": 15,
   "id": "424ca393-cd7a-4ee5-bc2f-3ca63614c1e6",
   "metadata": {},
   "outputs": [
    {
     "name": "stderr",
     "output_type": "stream",
     "text": [
      "[Stage 19:======================================>                   (2 + 1) / 3]"
     ]
    },
    {
     "name": "stdout",
     "output_type": "stream",
     "text": [
      "+--------------+---------+-------------+------------+\n",
      "|       Country|InvoiceNo|TotalQuantity|InvoiceValue|\n",
      "+--------------+---------+-------------+------------+\n",
      "|United Kingdom|   536446|          329|      440.89|\n",
      "|United Kingdom|   536508|          216|      155.52|\n",
      "|United Kingdom|   537018|           -3|         0.0|\n",
      "|United Kingdom|   537401|          -24|         0.0|\n",
      "|United Kingdom|   537811|           74|      268.86|\n",
      "+--------------+---------+-------------+------------+\n",
      "only showing top 5 rows\n",
      "\n"
     ]
    },
    {
     "name": "stderr",
     "output_type": "stream",
     "text": [
      "                                                                                "
     ]
    }
   ],
   "source": [
    "# using spark.sql\n",
    "invoice_df.createOrReplaceTempView(\"invoices\")\n",
    "\n",
    "exercise1 = spark.sql(\n",
    "    \"\"\"\n",
    "    SELECT\n",
    "        Country,\n",
    "        InvoiceNo,\n",
    "        SUM(Quantity) AS TotalQuantity,\n",
    "        ROUND(SUM(Quantity * UnitPrice), 2) AS InvoiceValue\n",
    "    FROM\n",
    "        invoices\n",
    "    GROUP BY\n",
    "        Country,\n",
    "        InvoiceNo\n",
    "    \"\"\"\n",
    ")\n",
    "\n",
    "exercise1.show(5)"
   ]
  },
  {
   "cell_type": "code",
   "execution_count": 17,
   "id": "cff0bdcd-1c74-47a4-8383-580396727070",
   "metadata": {},
   "outputs": [
    {
     "name": "stderr",
     "output_type": "stream",
     "text": [
      "[Stage 22:===================>                                      (1 + 2) / 3]"
     ]
    },
    {
     "name": "stdout",
     "output_type": "stream",
     "text": [
      "+--------------+---------+-------------+------------+----------------+\n",
      "|       Country|InvoiceNo|TotalQuantity|InvoiceValue|InvoiceValueExpr|\n",
      "+--------------+---------+-------------+------------+----------------+\n",
      "|United Kingdom|   536446|          329|      440.89|          440.89|\n",
      "|United Kingdom|   536508|          216|      155.52|          155.52|\n",
      "|United Kingdom|   537018|           -3|         0.0|             0.0|\n",
      "|United Kingdom|   537401|          -24|         0.0|             0.0|\n",
      "|United Kingdom|   537811|           74|      268.86|          268.86|\n",
      "+--------------+---------+-------------+------------+----------------+\n",
      "only showing top 5 rows\n",
      "\n"
     ]
    },
    {
     "name": "stderr",
     "output_type": "stream",
     "text": [
      "                                                                                "
     ]
    }
   ],
   "source": [
    "# OR using pyspark.sql.functions\n",
    "\n",
    "# agg(*exprs: Column) -> DataFrame\n",
    "# Compute aggregates and returns the result as a `DataFrame`.\n",
    "\n",
    "exercise1_alt = invoice_df.groupBy(\"Country\", \"InvoiceNo\").agg(\n",
    "    sum(\"Quantity\").alias(\"TotalQuantity\"),\n",
    "    F.expr(\"ROUND(SUM(Quantity * UnitPrice), 2)\").alias(\"InvoiceValue\"),\n",
    "    # OR\n",
    "    F.round(F.sum(F.expr(\"Quantity * UnitPrice\")), 2).alias(\"InvoiceValueExpr\"),\n",
    ")\n",
    "\n",
    "exercise1_alt.show(5)"
   ]
  }
 ],
 "metadata": {
  "kernelspec": {
   "display_name": "Python 3 (ipykernel)",
   "language": "python",
   "name": "python3"
  },
  "language_info": {
   "codemirror_mode": {
    "name": "ipython",
    "version": 3
   },
   "file_extension": ".py",
   "mimetype": "text/x-python",
   "name": "python",
   "nbconvert_exporter": "python",
   "pygments_lexer": "ipython3",
   "version": "3.13.2"
  }
 },
 "nbformat": 4,
 "nbformat_minor": 5
}
